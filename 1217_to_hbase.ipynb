{
 "metadata": {
  "name": "",
  "signature": "sha256:efd7b8db9304b9704888a03d1c4acacf2fa35ccbe0bf634922c654e166220eb5"
 },
 "nbformat": 3,
 "nbformat_minor": 0,
 "worksheets": [
  {
   "cells": [
    {
     "cell_type": "code",
     "collapsed": false,
     "input": [
      "%matplotlib inline \n",
      "import pandas.io.sql as psql\n",
      "import pandas as pd\n",
      "import numpy as np\n",
      "#import MySQLdb as sql\n",
      "from matplotlib import pyplot as plt\n",
      "import time\n",
      "import datetime\n",
      "import csv\n",
      "import math\n",
      "import datetime as dt\n",
      "import gpxpy\n",
      "import gpxpy.gpx\n",
      "import argparse\n",
      "import happy"
     ],
     "language": "python",
     "metadata": {},
     "outputs": [],
     "prompt_number": 1
    },
    {
     "cell_type": "heading",
     "level": 3,
     "metadata": {},
     "source": [
      "Converting .gpx file to input"
     ]
    },
    {
     "cell_type": "code",
     "collapsed": false,
     "input": [
      "lon=[]\n",
      "lat=[]\n",
      "t=[]\n",
      "gpx_file = open('1217Caltrain.gpx', 'r')\n",
      "gpx = gpxpy.parse(gpx_file)\n",
      "for track in gpx.tracks:\n",
      "    for segment in track.segments:\n",
      "        for point in segment.points:\n",
      "            timestamp = int((point.time - dt.datetime(1970, 1, 1)).total_seconds())\n",
      "            lon.append(point.longitude)\n",
      "            lat.append(point.latitude)\n",
      "            t.append(timestamp)"
     ],
     "language": "python",
     "metadata": {},
     "outputs": [],
     "prompt_number": 6
    },
    {
     "cell_type": "heading",
     "level": 3,
     "metadata": {},
     "source": [
      "Starting Hbase connection"
     ]
    },
    {
     "cell_type": "code",
     "collapsed": false,
     "input": [],
     "language": "python",
     "metadata": {},
     "outputs": [],
     "prompt_number": 11
    },
    {
     "cell_type": "code",
     "collapsed": false,
     "input": [],
     "language": "python",
     "metadata": {},
     "outputs": [],
     "prompt_number": 11
    },
    {
     "cell_type": "code",
     "collapsed": false,
     "input": [],
     "language": "python",
     "metadata": {},
     "outputs": [],
     "prompt_number": 11
    },
    {
     "cell_type": "code",
     "collapsed": false,
     "input": [],
     "language": "python",
     "metadata": {},
     "outputs": [],
     "prompt_number": 11
    },
    {
     "cell_type": "code",
     "collapsed": false,
     "input": [],
     "language": "python",
     "metadata": {},
     "outputs": []
    }
   ],
   "metadata": {}
  }
 ]
}