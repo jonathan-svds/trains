{
 "metadata": {
  "name": "",
  "signature": "sha256:448fe3dd69689e30b0223108b80bc61f5271613fa1df9a1f727078dd2196cd77"
 },
 "nbformat": 3,
 "nbformat_minor": 0,
 "worksheets": [
  {
   "cells": [
    {
     "cell_type": "code",
     "collapsed": false,
     "input": [
      "%matplotlib inline \n",
      "import pandas.io.sql as psql\n",
      "import pandas as pd\n",
      "import numpy as np\n",
      "#import MySQLdb as sql\n",
      "from matplotlib import pyplot as plt\n",
      "import time\n",
      "import datetime\n",
      "import csv\n",
      "import math\n",
      "import datetime as dt\n",
      "import gpxpy\n",
      "import gpxpy.gpx\n",
      "import argparse\n",
      "import happy"
     ],
     "language": "python",
     "metadata": {},
     "outputs": [],
     "prompt_number": 1
    },
    {
     "cell_type": "heading",
     "level": 3,
     "metadata": {},
     "source": [
      "Converting .gpx file to input"
     ]
    },
    {
     "cell_type": "code",
     "collapsed": false,
     "input": [
      "lon=[]\n",
      "lat=[]\n",
      "t=[]\n",
      "gpx_file = open('1217Caltrain.gpx', 'r')\n",
      "gpx = gpxpy.parse(gpx_file)\n",
      "for track in gpx.tracks:\n",
      "    for segment in track.segments:\n",
      "        for point in segment.points:\n",
      "            timestamp = int((point.time - dt.datetime(1970, 1, 1)).total_seconds())\n",
      "            lon.append(point.longitude)\n",
      "            lat.append(point.latitude)\n",
      "            t.append(timestamp)"
     ],
     "language": "python",
     "metadata": {},
     "outputs": [],
     "prompt_number": 6
    },
    {
     "cell_type": "heading",
     "level": 3,
     "metadata": {},
     "source": [
      "Starting Hbase connection"
     ]
    },
    {
     "cell_type": "code",
     "collapsed": false,
     "input": [
      "b=dt.datetime(1970, 1, 1)"
     ],
     "language": "python",
     "metadata": {},
     "outputs": [],
     "prompt_number": 10
    },
    {
     "cell_type": "code",
     "collapsed": false,
     "input": [
      "a=point.time - dt.datetime(1970, 1, 1)"
     ],
     "language": "python",
     "metadata": {},
     "outputs": [],
     "prompt_number": 8
    },
    {
     "cell_type": "code",
     "collapsed": false,
     "input": [
      "a.total_seconds()"
     ],
     "language": "python",
     "metadata": {},
     "outputs": [
      {
       "metadata": {},
       "output_type": "pyout",
       "prompt_number": 9,
       "text": [
        "1418806504.0"
       ]
      }
     ],
     "prompt_number": 9
    },
    {
     "cell_type": "code",
     "collapsed": false,
     "input": [
      "b.total_seconds()"
     ],
     "language": "python",
     "metadata": {},
     "outputs": [
      {
       "ename": "AttributeError",
       "evalue": "'datetime.datetime' object has no attribute 'total_seconds'",
       "output_type": "pyerr",
       "traceback": [
        "\u001b[0;31m---------------------------------------------------------------------------\u001b[0m\n\u001b[0;31mAttributeError\u001b[0m                            Traceback (most recent call last)",
        "\u001b[0;32m<ipython-input-11-6c078ab5f984>\u001b[0m in \u001b[0;36m<module>\u001b[0;34m()\u001b[0m\n\u001b[0;32m----> 1\u001b[0;31m \u001b[0mb\u001b[0m\u001b[0;34m.\u001b[0m\u001b[0mtotal_seconds\u001b[0m\u001b[0;34m(\u001b[0m\u001b[0;34m)\u001b[0m\u001b[0;34m\u001b[0m\u001b[0m\n\u001b[0m",
        "\u001b[0;31mAttributeError\u001b[0m: 'datetime.datetime' object has no attribute 'total_seconds'"
       ]
      }
     ],
     "prompt_number": 11
    },
    {
     "cell_type": "code",
     "collapsed": false,
     "input": [],
     "language": "python",
     "metadata": {},
     "outputs": []
    }
   ],
   "metadata": {}
  }
 ]
}