{
 "metadata": {
  "name": "",
  "signature": "sha256:37a443885174db48fe4fb162a16f4f11b8f36b778e6bb1fd713e4cd66a5aa8be"
 },
 "nbformat": 3,
 "nbformat_minor": 0,
 "worksheets": []
}